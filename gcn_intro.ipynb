{
 "cells": [
  {
   "cell_type": "markdown",
   "metadata": {},
   "source": [
    "In this report, I will introduce to graph convolutional networks (GCNs), and illustrate how information is propagated through the hidden layers of a GCN, using coding examples. We will see how this mechanism produces useful feature representations of nodes in graphs. "
   ]
  },
  {
   "cell_type": "markdown",
   "metadata": {},
   "source": [
    "## What is a graph convolutional network? \n",
    "\n",
    "GCNs are neural network architectures dedicated for machine learning on __graphs__. \n",
    "\n",
    "![](karate.png \"GCN example\")\n",
    "\n",
    "Given a graph G = (V, E), a GCN takes as input: \n",
    "\n",
    "1. an input feature matrix $N \\times F^0$, X, where $N$ is the number of nodes, and\n",
    " $F^0$ is the number of input features for each node, \n",
    "\n",
    "2. an $N \\times N$ matrix representation of the graph structure, such as the adjacency\n",
    " matrix. \n",
    "\n",
    "A hidden layer in the GCN can be written as $H^i = f(H^{i-1}, A)$, where $H^0 = X$, \n",
    " and $f$ is a propagation. Each layer $H^i$ corresponds to an $N \\times F^i$ feature\n",
    " matrix, where each row is a feature representation of a node. At each layer, these\n",
    " features are aggregated to form the nex layer's features, using the propagation\n",
    " rule $f$. Features become increasingly abstract at each consecutive layer (doesn't\n",
    " this sound familiar?) In this framework, variants of GCN differ only in the choice\n",
    " of propagation rule $f$. \n",
    " \n",
    "## A simple propagation rule\n",
    "\n",
    "One of the simplest possible propagation rule is \\[1\\]:\n",
    "\n",
    "$f(H^i, A) = \\sigma(AH^iW^i)$\n",
    "\n",
    "where $W^i$ is the weight matrix for layer $i$ and $\\sigma$ is a non-linear activation function such as \n",
    "the RELU activation. The weight matrix has dimensions $F^i \\times F^{i+1}$. \n",
    "In other words, the size of the 2nd dimension of the weight matrix \n",
    "determines the number of features at the next layer. If you are familiar with \n",
    "convolutional neural networks, this operation is similar to a filtering \n",
    "operation, since these weights are shared across nodes in the graph. \n",
    " \n",
    "## A simple graph example\n",
    "\n",
    "As a simple example, we shall see the following graph: \n",
    "\n",
    "![](dir_graph.png \"A simple directed graph\")\n",
    "\n",
    "A below is its numpy adjacency matrix representation. "
   ]
  },
  {
   "cell_type": "code",
   "execution_count": 1,
   "metadata": {},
   "outputs": [],
   "source": [
    "import numpy as np \n",
    "\n",
    "A = np.array([\n",
    "    [0,1,0,0],\n",
    "    [0,0,1,1],\n",
    "    [0,1,0,0],\n",
    "    [1,0,1,0],\n",
    "], dtype=np.float32)"
   ]
  },
  {
   "cell_type": "markdown",
   "metadata": {},
   "source": [
    "Next, we need features! We generate 2 integer features for every node based on its index. \n",
    "This makes it easy to confirm the matrix calculations manually later."
   ]
  },
  {
   "cell_type": "code",
   "execution_count": 2,
   "metadata": {},
   "outputs": [
    {
     "data": {
      "text/plain": [
       "array([[ 0.,  0.],\n",
       "       [ 1., -1.],\n",
       "       [ 2., -2.],\n",
       "       [ 3., -3.]], dtype=float32)"
      ]
     },
     "execution_count": 2,
     "metadata": {},
     "output_type": "execute_result"
    }
   ],
   "source": [
    "X = np.array([\n",
    "    [i,-i]\n",
    "    for i in range(A.shape[0])\n",
    "], dtype=np.float32);X"
   ]
  },
  {
   "cell_type": "markdown",
   "metadata": {},
   "source": [
    "## Applying the propagation rule\n",
    "\n",
    "Alright! We now have a graph, of which the adjacency matrix $A$ and a set of input\n",
    "features $X$. Let's see what happens when we apply the propagation rule: "
   ]
  },
  {
   "cell_type": "code",
   "execution_count": 3,
   "metadata": {},
   "outputs": [
    {
     "data": {
      "text/plain": [
       "array([[ 1., -1.],\n",
       "       [ 5., -5.],\n",
       "       [ 1., -1.],\n",
       "       [ 2., -2.]], dtype=float32)"
      ]
     },
     "execution_count": 3,
     "metadata": {},
     "output_type": "execute_result"
    }
   ],
   "source": [
    "np.matmul(A, X)"
   ]
  },
  {
   "cell_type": "markdown",
   "metadata": {},
   "source": [
    "What happened? __The representation of each node (each row) is now a sum of \n",
    "its neighbours' features!__ In other words, the graph convolutional layer \n",
    "represents each node as an aggregate of its neighbourhood. Note that in this\n",
    "case a node $n$ is a neighbour of node $v$ if there exists an edge between\n",
    "$v$ and $n$. \n",
    "\n",
    "## Problems on the horizon\n",
    "\n",
    "You may have already spotted the problems:\n",
    "\n",
    "The aggregated representation of a node does not include its own features! \n",
    "The representation is an aggregate of the features of neighbor nodes, so \n",
    "only nodes that has a self-loop will include their own features in the \n",
    "aggregate.\\[1\\]\n",
    "\n",
    "Nodes with large degrees will have large values in their feature representation \n",
    "while nodes with small degrees will have small values. This can cause vanishing \n",
    "or exploding gradients \\[1, 2\\], but is also problematic for stochastic gradient \n",
    "descent algorithms which are typically used to train such networks and are \n",
    "sensitive to the scale (or range of values) of each of the input features.\n",
    "In the following, I discuss each of these problems separately.\n",
    "\n",
    "## Adding self-loops\n",
    "\n",
    "To address the first problem, one can simply add a self-loop to each node \n",
    "\\[1, 2\\]. In practice this is done by adding the identity matrix $I$ to \n",
    "the adjacency matrix $A$ before applying the propagation rule."
   ]
  },
  {
   "cell_type": "code",
   "execution_count": 4,
   "metadata": {},
   "outputs": [
    {
     "data": {
      "text/plain": [
       "array([[1., 0., 0., 0.],\n",
       "       [0., 1., 0., 0.],\n",
       "       [0., 0., 1., 0.],\n",
       "       [0., 0., 0., 1.]])"
      ]
     },
     "execution_count": 4,
     "metadata": {},
     "output_type": "execute_result"
    }
   ],
   "source": [
    "I = np.array(np.eye(A.shape[0])); I "
   ]
  },
  {
   "cell_type": "code",
   "execution_count": 5,
   "metadata": {},
   "outputs": [],
   "source": [
    "A_hat = A + I"
   ]
  },
  {
   "cell_type": "code",
   "execution_count": 6,
   "metadata": {},
   "outputs": [
    {
     "data": {
      "text/plain": [
       "array([[ 1., -1.],\n",
       "       [ 6., -6.],\n",
       "       [ 3., -3.],\n",
       "       [ 5., -5.]])"
      ]
     },
     "execution_count": 6,
     "metadata": {},
     "output_type": "execute_result"
    }
   ],
   "source": [
    "np.matmul(A_hat, X)"
   ]
  },
  {
   "cell_type": "markdown",
   "metadata": {},
   "source": [
    "Since the node is now a neighbor of itself, the node’s own features is \n",
    "included when summing up the features of its neighbors!\n",
    "\n",
    "## Normalizing the feature representations\n",
    "\n",
    "The feature representations can be normalized by node degree by \n",
    "transforming the adjacency matrix A by multiplying it with the \n",
    "inverse degree matrix $D$ \\[1\\]. Thus our simplified propagation \n",
    "rule looks like this \\[1\\]:\n",
    "\n",
    "$f(X, A) = D^{-1}AX$\n",
    "\n",
    "Let's see what happens. We first compute the degree matrix. "
   ]
  },
  {
   "cell_type": "code",
   "execution_count": 7,
   "metadata": {},
   "outputs": [
    {
     "data": {
      "text/plain": [
       "array([[1., 0., 0., 0.],\n",
       "       [0., 2., 0., 0.],\n",
       "       [0., 0., 2., 0.],\n",
       "       [0., 0., 0., 1.]], dtype=float32)"
      ]
     },
     "execution_count": 7,
     "metadata": {},
     "output_type": "execute_result"
    }
   ],
   "source": [
    "D = np.array(np.sum(A, axis=0))\n",
    "D = np.diag(D); D"
   ]
  },
  {
   "cell_type": "markdown",
   "metadata": {},
   "source": [
    "Before applying the rule, let's see what happens to the adjacency matrix after we transform it. \n",
    "\n",
    "Before: "
   ]
  },
  {
   "cell_type": "code",
   "execution_count": 8,
   "metadata": {},
   "outputs": [
    {
     "data": {
      "text/plain": [
       "array([[0., 1., 0., 0.],\n",
       "       [0., 0., 1., 1.],\n",
       "       [0., 1., 0., 0.],\n",
       "       [1., 0., 1., 0.]], dtype=float32)"
      ]
     },
     "execution_count": 8,
     "metadata": {},
     "output_type": "execute_result"
    }
   ],
   "source": [
    "A"
   ]
  },
  {
   "cell_type": "markdown",
   "metadata": {},
   "source": [
    "After: "
   ]
  },
  {
   "cell_type": "code",
   "execution_count": 9,
   "metadata": {},
   "outputs": [
    {
     "data": {
      "text/plain": [
       "array([[0. , 1. , 0. , 0. ],\n",
       "       [0. , 0. , 0.5, 0.5],\n",
       "       [0. , 0.5, 0. , 0. ],\n",
       "       [1. , 0. , 1. , 0. ]], dtype=float32)"
      ]
     },
     "execution_count": 9,
     "metadata": {},
     "output_type": "execute_result"
    }
   ],
   "source": [
    "np.matmul(np.linalg.inv(D), A)"
   ]
  },
  {
   "cell_type": "markdown",
   "metadata": {},
   "source": [
    "Observe that the weights (the values) in each row of the adjacency matrix \n",
    "have been divided by the degree of the node corresponding to the row. \n",
    "We apply the propagation rule with the transformed adjacency matrix"
   ]
  },
  {
   "cell_type": "code",
   "execution_count": 10,
   "metadata": {},
   "outputs": [
    {
     "data": {
      "text/plain": [
       "array([[ 1. , -1. ],\n",
       "       [ 2.5, -2.5],\n",
       "       [ 0.5, -0.5],\n",
       "       [ 2. , -2. ]], dtype=float32)"
      ]
     },
     "execution_count": 10,
     "metadata": {},
     "output_type": "execute_result"
    }
   ],
   "source": [
    "np.matmul(np.matmul(np.linalg.inv(D), A), X)"
   ]
  },
  {
   "cell_type": "markdown",
   "metadata": {},
   "source": [
    "and get node representations corresponding to the mean of the features of \n",
    "neighboring nodes. This is because the weights in the (transformed) adjacency \n",
    "matrix correspond to weights in a weighted sum of the neighboring nodes' features. \n",
    "Again, I encourage you to verify this observation for yourself."
   ]
  },
  {
   "cell_type": "markdown",
   "metadata": {},
   "source": [
    "## Putting it all together\n",
    "\n",
    "We now combine the self-loop and normalization tips. In addition, \n",
    "we’ll reintroduce the weights and activation function that we \n",
    "previously discarded to simplify the discussion.\n",
    "\n",
    "### Adding back the Weights\n",
    "\n",
    "First order of business is applying the weights. Note that here $D_{hat}$ \n",
    "is the degree matrix of $A_{hat} = A + I$, i.e., the degree matrix of $A$ \n",
    "with forced self-loops."
   ]
  },
  {
   "cell_type": "code",
   "execution_count": 11,
   "metadata": {},
   "outputs": [
    {
     "data": {
      "text/plain": [
       "array([[ 1., -1.],\n",
       "       [ 4., -4.],\n",
       "       [ 2., -2.],\n",
       "       [ 5., -5.]])"
      ]
     },
     "execution_count": 11,
     "metadata": {},
     "output_type": "execute_result"
    }
   ],
   "source": [
    "W = np.array([\n",
    "    [1, -1], \n",
    "    [-1, 1]\n",
    "])\n",
    "\n",
    "D_hat = np.array(np.sum(A_hat, axis=0))\n",
    "D_hat = np.diag(D_hat)\n",
    "\n",
    "np.matmul(np.matmul(np.matmul(np.linalg.inv(D_hat), A_hat), X), W)"
   ]
  },
  {
   "cell_type": "markdown",
   "metadata": {},
   "source": [
    "And if we want to reduce the dimensionality of the output feature representations \n",
    "we can reduce the size of the weight matrix $W$:"
   ]
  },
  {
   "cell_type": "code",
   "execution_count": 12,
   "metadata": {},
   "outputs": [
    {
     "data": {
      "text/plain": [
       "array([[1.],\n",
       "       [4.],\n",
       "       [2.],\n",
       "       [5.]])"
      ]
     },
     "execution_count": 12,
     "metadata": {},
     "output_type": "execute_result"
    }
   ],
   "source": [
    "W = np.array([[1], [-1]])\n",
    "\n",
    "np.matmul(np.matmul(np.matmul(np.linalg.inv(D_hat), A_hat), X), W)"
   ]
  },
  {
   "cell_type": "markdown",
   "metadata": {},
   "source": [
    "## Adding an activation function\n",
    "\n",
    "We choose to preserve the dimensionality of the feature representations\n",
    "and apply the RELU activation function."
   ]
  },
  {
   "cell_type": "code",
   "execution_count": 13,
   "metadata": {},
   "outputs": [],
   "source": [
    "W = np.array([\n",
    "    [1, -1], \n",
    "    [-1, 1]\n",
    "])\n",
    "\n",
    "def relu(x):\n",
    "    return np.where(x > 0, x, 0)"
   ]
  },
  {
   "cell_type": "code",
   "execution_count": 14,
   "metadata": {},
   "outputs": [
    {
     "data": {
      "text/plain": [
       "array([[1., 0.],\n",
       "       [4., 0.],\n",
       "       [2., 0.],\n",
       "       [5., 0.]])"
      ]
     },
     "execution_count": 14,
     "metadata": {},
     "output_type": "execute_result"
    }
   ],
   "source": [
    "relu(np.matmul(np.matmul(np.matmul(np.linalg.inv(D_hat), A_hat), X), W))"
   ]
  },
  {
   "cell_type": "markdown",
   "metadata": {},
   "source": [
    "### Voila! A complete hidden layer with adjacency matrix, input features, weights and activation function! "
   ]
  },
  {
   "cell_type": "markdown",
   "metadata": {},
   "source": [
    "## Back to reality\n",
    "\n",
    "Now, finally, we can apply a graph convolutional network on a real graph. \n",
    "I will show you how to produce the feature representations we saw early in the post.\n",
    "\n",
    "### Zachary’s Karate Club\n",
    "\n",
    "Zachary’s karate club is a commonly used social network where nodes represent members \n",
    "of a karate club and the edges their mutual relations. While Zachary was studying the \n",
    "karate club, a conflict arose between the administrator and the instructor \n",
    "which resulted in the club splitting in two. The figure below shows the graph representation \n",
    "of the network and nodes are labeled according to which part of the club. \n",
    "The administrator and instructor are marked with $A$ and $I$, respectively.\n",
    "\n",
    "![](club.png \"Zachary's karate club\")\n",
    "\n",
    "### Building the GCN\n",
    "\n",
    "Now let us build the graph convolutional network. We won’t actually train the network, \n",
    "but simply initialize it at random to produce the feature representations we saw at \n",
    "the start of this post. We will use networkx which has a graph representation of \n",
    "the club easily available, and compute the $A_{hat}$ and $D_{hat}$ matrices."
   ]
  },
  {
   "cell_type": "code",
   "execution_count": 15,
   "metadata": {},
   "outputs": [],
   "source": [
    "from networkx import karate_club_graph, to_numpy_array\n",
    "import networkx as nx"
   ]
  },
  {
   "cell_type": "code",
   "execution_count": 16,
   "metadata": {},
   "outputs": [],
   "source": [
    "zkc = karate_club_graph()"
   ]
  },
  {
   "cell_type": "code",
   "execution_count": 17,
   "metadata": {},
   "outputs": [],
   "source": [
    "clubs = [zkc.nodes[f]['club'] for f in zkc.nodes]\n",
    "# get node colors based on clubs\n",
    "node_colors = [int(c == \"Officer\") for c in clubs]"
   ]
  },
  {
   "cell_type": "code",
   "execution_count": 18,
   "metadata": {},
   "outputs": [],
   "source": [
    "order = sorted(list(zkc.nodes()))"
   ]
  },
  {
   "cell_type": "code",
   "execution_count": 19,
   "metadata": {},
   "outputs": [
    {
     "data": {
      "text/plain": [
       "array([[0., 1., 1., ..., 1., 0., 0.],\n",
       "       [1., 0., 1., ..., 0., 0., 0.],\n",
       "       [1., 1., 0., ..., 0., 1., 0.],\n",
       "       ...,\n",
       "       [1., 0., 0., ..., 0., 1., 1.],\n",
       "       [0., 0., 1., ..., 1., 0., 1.],\n",
       "       [0., 0., 0., ..., 1., 1., 0.]])"
      ]
     },
     "execution_count": 19,
     "metadata": {},
     "output_type": "execute_result"
    }
   ],
   "source": [
    "A = to_numpy_array(zkc, nodelist=order); A"
   ]
  },
  {
   "cell_type": "code",
   "execution_count": 20,
   "metadata": {},
   "outputs": [
    {
     "data": {
      "text/plain": [
       "array([[17.,  0.,  0., ...,  0.,  0.,  0.],\n",
       "       [ 0., 10.,  0., ...,  0.,  0.,  0.],\n",
       "       [ 0.,  0., 11., ...,  0.,  0.,  0.],\n",
       "       ...,\n",
       "       [ 0.,  0.,  0., ...,  7.,  0.,  0.],\n",
       "       [ 0.,  0.,  0., ...,  0., 13.,  0.],\n",
       "       [ 0.,  0.,  0., ...,  0.,  0., 18.]])"
      ]
     },
     "execution_count": 20,
     "metadata": {},
     "output_type": "execute_result"
    }
   ],
   "source": [
    "I = np.eye(zkc.number_of_nodes())\n",
    "\n",
    "A_hat = A + I \n",
    "\n",
    "D_hat = np.sum(A_hat, axis=0)\n",
    "D_hat = np.diag(D_hat); D_hat"
   ]
  },
  {
   "cell_type": "markdown",
   "metadata": {},
   "source": [
    "Next, we'ill initialize weights randomly."
   ]
  },
  {
   "cell_type": "code",
   "execution_count": 21,
   "metadata": {},
   "outputs": [],
   "source": [
    "W_1 = np.random.normal(\n",
    "    loc=0, scale=1, size=(zkc.number_of_nodes(), 4))\n",
    "W_2 = np.random.normal(\n",
    "    loc=0, size=(W_1.shape[1], 2))"
   ]
  },
  {
   "cell_type": "markdown",
   "metadata": {},
   "source": [
    "Stack the GCN layers. We here use just the identity matrix as feature representation, \n",
    "that is, each node is represented as a one-hot encoded categorical variable."
   ]
  },
  {
   "cell_type": "code",
   "execution_count": 22,
   "metadata": {},
   "outputs": [],
   "source": [
    "def sigmoid(x):\n",
    "    return 1./(1 + np.exp(-x))"
   ]
  },
  {
   "cell_type": "code",
   "execution_count": 23,
   "metadata": {},
   "outputs": [
    {
     "data": {
      "text/plain": [
       "array([[0.4187601 , 0.37015253],\n",
       "       [0.45279497, 0.3747409 ],\n",
       "       [0.44929962, 0.38392331],\n",
       "       [0.41788463, 0.31467286],\n",
       "       [0.4759484 , 0.45636467],\n",
       "       [0.47619382, 0.43808203],\n",
       "       [0.49959083, 0.46030267],\n",
       "       [0.49392658, 0.35355612],\n",
       "       [0.39662974, 0.3761771 ],\n",
       "       [0.4389606 , 0.42936905],\n",
       "       [0.45606653, 0.43731057],\n",
       "       [0.34272071, 0.2768507 ],\n",
       "       [0.38570538, 0.28964696],\n",
       "       [0.44018866, 0.36323722],\n",
       "       [0.40028648, 0.40343586],\n",
       "       [0.36338478, 0.35903943],\n",
       "       [0.49259201, 0.45406564],\n",
       "       [0.50780881, 0.43017605],\n",
       "       [0.40008829, 0.40408006],\n",
       "       [0.46923037, 0.4130185 ],\n",
       "       [0.37917931, 0.38215187],\n",
       "       [0.47665718, 0.3936122 ],\n",
       "       [0.30617391, 0.31316885],\n",
       "       [0.43151892, 0.43324478],\n",
       "       [0.49790578, 0.49799161],\n",
       "       [0.4900914 , 0.49049743],\n",
       "       [0.4004998 , 0.40242232],\n",
       "       [0.45751552, 0.4538356 ],\n",
       "       [0.45470621, 0.44979476],\n",
       "       [0.39808173, 0.40091906],\n",
       "       [0.38502491, 0.35206362],\n",
       "       [0.45837937, 0.44873561],\n",
       "       [0.40556881, 0.4003216 ],\n",
       "       [0.41672732, 0.41288615]])"
      ]
     },
     "execution_count": 23,
     "metadata": {},
     "output_type": "execute_result"
    }
   ],
   "source": [
    "def gcn_layer(A_hat, D_hat, X, W, activation='relu'):\n",
    "    if activation == 'relu':\n",
    "        return relu(np.matmul(np.matmul(np.matmul(np.linalg.inv(D_hat), A_hat), X), W))\n",
    "    if activation == 'sigmoid':\n",
    "        return sigmoid(np.matmul(np.matmul(np.matmul(np.linalg.inv(D_hat), A_hat), X), W))\n",
    "    \n",
    "H_1 = gcn_layer(A_hat, D_hat, I, W_1)\n",
    "H_2 = gcn_layer(A_hat, D_hat, H_1, W_2, 'sigmoid')\n",
    "output = H_2; output"
   ]
  },
  {
   "cell_type": "markdown",
   "metadata": {},
   "source": [
    "We extract the feature representations."
   ]
  },
  {
   "cell_type": "code",
   "execution_count": 24,
   "metadata": {},
   "outputs": [
    {
     "data": {
      "text/plain": [
       "{0: array([0.4187601 , 0.37015253]),\n",
       " 1: array([0.45279497, 0.3747409 ]),\n",
       " 2: array([0.44929962, 0.38392331]),\n",
       " 3: array([0.41788463, 0.31467286]),\n",
       " 4: array([0.4759484 , 0.45636467]),\n",
       " 5: array([0.47619382, 0.43808203]),\n",
       " 6: array([0.49959083, 0.46030267]),\n",
       " 7: array([0.49392658, 0.35355612]),\n",
       " 8: array([0.39662974, 0.3761771 ]),\n",
       " 9: array([0.4389606 , 0.42936905]),\n",
       " 10: array([0.45606653, 0.43731057]),\n",
       " 11: array([0.34272071, 0.2768507 ]),\n",
       " 12: array([0.38570538, 0.28964696]),\n",
       " 13: array([0.44018866, 0.36323722]),\n",
       " 14: array([0.40028648, 0.40343586]),\n",
       " 15: array([0.36338478, 0.35903943]),\n",
       " 16: array([0.49259201, 0.45406564]),\n",
       " 17: array([0.50780881, 0.43017605]),\n",
       " 18: array([0.40008829, 0.40408006]),\n",
       " 19: array([0.46923037, 0.4130185 ]),\n",
       " 20: array([0.37917931, 0.38215187]),\n",
       " 21: array([0.47665718, 0.3936122 ]),\n",
       " 22: array([0.30617391, 0.31316885]),\n",
       " 23: array([0.43151892, 0.43324478]),\n",
       " 24: array([0.49790578, 0.49799161]),\n",
       " 25: array([0.4900914 , 0.49049743]),\n",
       " 26: array([0.4004998 , 0.40242232]),\n",
       " 27: array([0.45751552, 0.4538356 ]),\n",
       " 28: array([0.45470621, 0.44979476]),\n",
       " 29: array([0.39808173, 0.40091906]),\n",
       " 30: array([0.38502491, 0.35206362]),\n",
       " 31: array([0.45837937, 0.44873561]),\n",
       " 32: array([0.40556881, 0.4003216 ]),\n",
       " 33: array([0.41672732, 0.41288615])}"
      ]
     },
     "execution_count": 24,
     "metadata": {},
     "output_type": "execute_result"
    }
   ],
   "source": [
    "feature_representations = {\n",
    "    node: np.array(output)[node] \n",
    "    for node in zkc.nodes()}; feature_representations"
   ]
  },
  {
   "cell_type": "markdown",
   "metadata": {},
   "source": [
    "And voila! Feature representations that separate the communities in Zachary’s \n",
    "karate club quite well. And we haven’t even begun training yet!"
   ]
  },
  {
   "cell_type": "code",
   "execution_count": 25,
   "metadata": {},
   "outputs": [],
   "source": [
    "import matplotlib.pyplot as plt\n",
    "\n",
    "%matplotlib inline"
   ]
  },
  {
   "cell_type": "code",
   "execution_count": 26,
   "metadata": {},
   "outputs": [
    {
     "name": "stderr",
     "output_type": "stream",
     "text": [
      "/home/test/anaconda3/lib/python3.7/site-packages/networkx/drawing/nx_pylab.py:611: MatplotlibDeprecationWarning: isinstance(..., numbers.Number)\n",
      "  if cb.is_numlike(alpha):\n"
     ]
    },
    {
     "data": {
      "image/png": "[encoded data removed]",
      "text/plain": [
       "<Figure size 432x288 with 1 Axes>"
      ]
     },
     "metadata": {},
     "output_type": "display_data"
    }
   ],
   "source": [
    "nx.draw(zkc, pos=output, node_color=node_colors)"
   ]
  }
 ],
 "metadata": {
  "kernelspec": {
   "display_name": "Python 3",
   "language": "python",
   "name": "python3"
  },
  "language_info": {
   "codemirror_mode": {
    "name": "ipython",
    "version": 3
   },
   "file_extension": ".py",
   "mimetype": "text/x-python",
   "name": "python",
   "nbconvert_exporter": "python",
   "pygments_lexer": "ipython3",
   "version": "3.7.1"
  }
 },
 "nbformat": 4,
 "nbformat_minor": 2
}
